{
 "cells": [
  {
   "cell_type": "code",
   "execution_count": null,
   "metadata": {},
   "outputs": [
    {
     "name": "stdout",
     "output_type": "stream",
     "text": [
      "Index(['ID', 'TITLE', 'DESCRIPTION', 'IMAGEURL', 'CATEGORY', 'BRAND'], dtype='object')\n",
      "ID             object\n",
      "TITLE          object\n",
      "DESCRIPTION    object\n",
      "IMAGEURL       object\n",
      "CATEGORY       object\n",
      "BRAND          object\n",
      "dtype: object\n"
     ]
    },
    {
     "data": {
      "text/plain": [
       "['ID', 'TITLE', 'DESCRIPTION', 'IMAGEURL', 'BRAND']"
      ]
     },
     "execution_count": 12,
     "metadata": {},
     "output_type": "execute_result"
    }
   ],
   "source": [
    "import pandas\n",
    "\n",
    "# read a CSV file \n",
    "df = pandas.read_csv('data.csv',dtype=str)\n",
    "\n",
    "print(df.columns)\n",
    "print(df.dtypes)\n",
    "columns = df.columns\n",
    "unique_columns = []\n",
    "for column in df.columns:\n",
    "    if df.head(100)[column].dropna().is_unique:\n",
    "        unique_columns.append(column)\n",
    "\n",
    "unique_columns\n",
    "\n",
    "# generate a text template\n",
    "#<_:[ID]> <dgraph.type> \"Product\" .\n",
    "#<_:[ID]> <Product.id> \"[ID]\" .\n",
    "#<_:[ID]> <Product.description> \"[DESCRIPTION]\" .\n",
    "#<_:[ID]> <Product.title> \"[TITLE]\" .\n",
    "# from columns to template\n",
    "entity = \"Product\"\n",
    "id_field = \"ID\"\n",
    "uid = \"<{}:[{}]>\".format(entity,id_field)\n",
    "template = \"{} <dgraph.type> \\\"{}\\\" .\\n\".format(uid,entity)\n",
    "for column in unique_columns:\n",
    "    template += \"{} <Product.{}> \\\"[{}]\\\" .\\n\".format(uid,column,column)\n",
    "print(template)\n",
    "\n",
    "\n"
   ]
  },
  {
   "cell_type": "code",
   "execution_count": 10,
   "metadata": {},
   "outputs": [
    {
     "data": {
      "text/plain": [
       "array([\"This second edition of the Handbook of Astronomical Image Processing (HAIP) and its integral AIP for Windows 2.0 image processing software (AIP4Win2.0) addresses many important changes that have taken place in astronomical imaging since the publication of the first edition.  Today's affordable astro-imaging capable digital single-lens-reflex cameras (DSLRs), the growing power of personal computers, and the proliferation of telescopes and imaging accessories has brought imaging capabilities within the reach of practically every amateur astronomer - and this second edition of the Handbook plus AIP4Win 2.0 is ready, willing, and able to assist every observer in making great astronomical images.  In the Handbook, we amplified the original chapters on astronomical equipment and imaging techniques, revised our discussions of astrometry and photometry to reflect the steady growth in these scientific fields, and expanded tutorials in the back of the book to help you get up to speed quickly.  On the accompanying CDROM (found on the inside back cover) you will find hundreds of megabytes of sample images you can use to learn techniques such as image registration and stacking that guarantee good results even from those living with suburban and urban skies.  Also new are comprehensive chapters on color imaging with astronomical CCD cameras and processing color images from digital cameras, and photon-counting fundamentals every serious astro-imager needs to\",\n",
       "       'A zesty tale. (Publishers Weekly)<br /><br />Garcia Aguilera creates human characters we can empathize with. (Fort Lauderdale Sun-Sentinel)<br /><br />Tropical politics, culture and identity...are at the center of One Hot Summer. (Fort Lauderdale Sun-Sentinel)',\n",
       "       '&#8220;sex.lies.murder.fame. is brillllli&#8212;f@#*ing&#8212;ant. Lolita Files has delivered a true page turner with remarkable characters.&#8221; (Eric Jerome Dickey)<br /><br />&#8220;A raunchy romp that reveals the extreme lengths that supersexy, badboy author Penn Hamilton will go to achieve success.&#8221; (Washington Post Book World)<br /><br />&#8220;Author Lolita Files sizzles&#8230;this thriller takes on the world of book publishing&#8230;and society&#8217;s obsession with fame and fortune.&#8221; (Ebony)<br /><br />&#8220;The main characters in Lolita Files&#8217; newest sizzling satire on fame go to outrageous lengths to seek their fortune&#8230;&#8221; (Heart and Soul)',\n",
       "       'GIRL WITH A ONE-TRACK MIND: CONFESSIONS OF THE SEDUCTRESS NEXT DOOR',\n",
       "       'Support system: Windows XP/Vsita/7 * SNR: 85dB * Power Supply: 1 x AAA battery(not included) * Dimensions: (9.5 x 2.8 x 1.5) cm/ (3.74 x 1.10 x 0.59) inch (L x W x H) * Color: Red * Package includes: - 1 x 4GB MP3 Player With FM Function Red - 1 x Earphone',\n",
       "       'Claire Messud\\'s piercing second novel asks questions most are too fearful to face. Moving between the South of France, the East Coast of the U.S., and Algeria, <i>The Last Life</i> explores the weight of isolation and exile in one French family. Of course, the adjective <i>French</i> is already inadequate, as at least some of the LaBasses still long for the paradise lost of Algeria. And Alex LaBasse\\'s wife, Carol, try as she might with her Continental impersonations, will always be an American sporting a metaphorical twin set. The narrator, Sagesse, too, soon finds herself equally stranded. Only her autocratic grandfather, Jacques, is ostensibly comfortable with the identity he has wrought: successful owner of the Bellevue Hotel and head of his dynasty. It is thanks to this man that 14-year-old Sagesse comes to crave invisibility. Having lost of all of her friends, she sees herself as \"a member of the Witness Protection Program, surrounded by an odd human assortment chosen only for the efficiency of disguise; but somehow, nevertheless, inescapable.\"',\n",
       "       \"In this gleeful, difficult debut, Altschul lays into an easy target&mdash;cynical celebrity culture&mdash;and meticulously crafts an over-the-top pop mirror world for his young heroine. Leaning heavily on the star mythology of Kurt Cobain, Courtney Love and their daughter, Frances Bean, Altschul introduces Calliope Bird Morath, the most famous poet in America, beloved to deconstructionists and culture theorists and fifteen-year-old girls alike. Calliope's childhood, revealed in retrospect, is haunted by a public fascination with her parents, mercurial rock 'n' roll heroes Brandt Morath and Penny Power, a fascination continuing long after Brandt's suicide when Calliope is a small child. Pushed by the demanding Penny to claim her father's destiny, Calliope skips college to attend a prestigious M.F.A. program, and soon publishes a collection of poems that centers on Brandt's death and sounds a lot like bad Sylvia Plath. The media swarms, and Calliope scandalizes&mdash;and perhaps really does find a path back to her father after all. Over the course of nearly 600 pages, Altschul registers some razor-sharp cultural observations and executes some thrilling high dives (the character named Andrew Altschul's sessions with a Lacanian analyst in particular). But the book's tricky PoMo narrative is bloated with gee-whiz grad-schoolisms, and storytelling takes a backseat to indulgence throughout. <I>(Apr.)</I> <BR>Copyright &copy; Reed Business Information, a division of Reed Elsevier Inc. All rights reserved.\"],\n",
       "      dtype=object)"
      ]
     },
     "execution_count": 10,
     "metadata": {},
     "output_type": "execute_result"
    }
   ],
   "source": [
    "df['DESCRIPTION'].dropna().unique()"
   ]
  }
 ],
 "metadata": {
  "kernelspec": {
   "display_name": "3.11.5",
   "language": "python",
   "name": "python3"
  },
  "language_info": {
   "codemirror_mode": {
    "name": "ipython",
    "version": 3
   },
   "file_extension": ".py",
   "mimetype": "text/x-python",
   "name": "python",
   "nbconvert_exporter": "python",
   "pygments_lexer": "ipython3",
   "version": "3.11.5"
  }
 },
 "nbformat": 4,
 "nbformat_minor": 2
}
