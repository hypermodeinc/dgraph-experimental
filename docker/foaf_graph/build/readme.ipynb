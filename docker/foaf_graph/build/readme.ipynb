{
 "cells": [
  {
   "cell_type": "markdown",
   "metadata": {},
   "source": [
    "# Dgraph FOAF Example Graph\n",
    "\n",
    "This is an example \"friend-of-a-friend\" graph running in Dgraph.\n",
    "\n",
    "This Jupyter notebook is running alongside a three-group Dgraph cluster that has been auto-populated with a number of Persons, their friends and their Pets. See the `schema.graphql` file for complete schema details.\n",
    "\n",
    "Several notebooks are available:\n",
    "\n",
    "- graphql_queries.ipynb has a number of example GraphQL queries\n",
    "- dql_queries.ipynb has a number of example DQL queries"
   ]
  }
 ],
 "metadata": {
  "language_info": {
   "name": "python"
  }
 },
 "nbformat": 4,
 "nbformat_minor": 2
}
