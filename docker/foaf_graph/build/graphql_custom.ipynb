{
 "cells": [
  {
   "cell_type": "markdown",
   "metadata": {},
   "source": [
    "# GraphQL Custom Query Example"
   ]
  },
  {
   "cell_type": "code",
   "execution_count": 1,
   "metadata": {},
   "outputs": [],
   "source": [
    "from python_graphql_client import GraphqlClient\n",
    "\n",
    "client = GraphqlClient(endpoint=f\"http://localhost:8080/graphql\")\n"
   ]
  },
  {
   "cell_type": "code",
   "execution_count": null,
   "metadata": {},
   "outputs": [],
   "source": [
    "import json\n",
    "\n",
    "query = \"\"\"\n",
    "    query shortestPath($from: String!, $to: String!) {\n",
    "        shortestPath(from: $from, to: $to) {\n",
    "            name\n",
    "        }\n",
    "    }\n",
    "\"\"\"\n",
    "\n",
    "variables = {\n",
    "  \"from\": \"Tonita Whitley\",\n",
    "  \"to\": \"Columbus Maxwell\"\n",
    "}\n",
    "result = client.execute(query=query, variables=variables)\n",
    "\n",
    "print(json.dumps(result[\"data\"][\"shortestPath\"], indent=2))\n"
   ]
  }
 ],
 "metadata": {
  "kernelspec": {
   "display_name": "Python 3",
   "language": "python",
   "name": "python3"
  },
  "language_info": {
   "codemirror_mode": {
    "name": "ipython",
    "version": 3
   },
   "file_extension": ".py",
   "mimetype": "text/x-python",
   "name": "python",
   "nbconvert_exporter": "python",
   "pygments_lexer": "ipython3",
   "version": "3.12.7"
  }
 },
 "nbformat": 4,
 "nbformat_minor": 2
}
