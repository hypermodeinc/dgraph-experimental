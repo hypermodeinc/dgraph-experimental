{
 "cells": [
  {
   "cell_type": "markdown",
   "metadata": {},
   "source": [
    "# DQL Query Examples\n",
    "\n",
    "Before running, be sure to execute the code in the [Setup](#Setup) cell.\n",
    "\n",
    "## Table of Contents\n",
    "1. [Setup](#Setup)\n",
    "1. [Syntax Basics](#syntax-basics)\n",
    "1. [Query Variables](#query-variables)\n",
    "1. [Query Variables Continued](#query-variables-continued)\n",
    "1. [Value Variables](#value-variables)\n",
    "1. [Examining the UID Map of Value Variables](#examining-the-uid-map-of-value-variables)\n",
    "\n"
   ]
  },
  {
   "cell_type": "markdown",
   "metadata": {},
   "source": [
    "## Setup"
   ]
  },
  {
   "cell_type": "code",
   "execution_count": null,
   "metadata": {},
   "outputs": [],
   "source": [
    "import pydgraph\n",
    "import json\n",
    "\n",
    "client_stub = pydgraph.DgraphClientStub(addr='localhost:9080', options=[('grpc.max_receive_message_length', 1024*1024*1024)])\n",
    "client = pydgraph.DgraphClient(client_stub)\n",
    "print(client.check_version())"
   ]
  },
  {
   "cell_type": "markdown",
   "metadata": {},
   "source": [
    "## Syntax Basics"
   ]
  },
  {
   "cell_type": "code",
   "execution_count": null,
   "metadata": {},
   "outputs": [],
   "source": [
    "query = \"\"\"\n",
    "{\n",
    "  all_peeps(func: type(Person), first: 10) {\n",
    "    Person.name\n",
    "    Person.pets {\n",
    "      Pet.name\n",
    "    }\n",
    "  }\n",
    "}\n",
    "\"\"\"\n",
    "\n",
    "res = client.txn(read_only=True).query(query)\n",
    "print(json.dumps(json.loads(res.json), indent=2))\n",
    "print(\"Total time: {0}ms\".format(res.latency.total_ns/1000000))"
   ]
  },
  {
   "cell_type": "markdown",
   "metadata": {},
   "source": [
    "## Query Variables\n",
    "\n",
    "Variables produce either sets of UIDs (in the case of *variable blocks*) or in the case of *Value Variables*, maps of UIDs to calculated scalars.\n",
    "\n",
    "The following query is identical to the one above, but illustrates how variable blocks work. The special `uid` function instructs the final output block to consider all UIDs that were collected in the variable block. By convention, variables are normally represented in all-caps."
   ]
  },
  {
   "cell_type": "code",
   "execution_count": null,
   "metadata": {},
   "outputs": [],
   "source": [
    "query = \"\"\"\n",
    "{\n",
    "  PEOPLE as var(func: type(Person))\n",
    "  \n",
    "  my_peeps(func: uid(PEOPLE), first: 10) {\n",
    "    Person.name\n",
    "  }\n",
    "}\n",
    "\"\"\"\n",
    "\n",
    "res = client.txn(read_only=True).query(query)\n",
    "print(json.dumps(json.loads(res.json), indent=2))\n",
    "print(\"Total time: {0}ms\".format(res.latency.total_ns/1000000))"
   ]
  },
  {
   "cell_type": "markdown",
   "metadata": {},
   "source": [
    "## Query Variables Continued\n",
    "\n",
    "A slightly more complicated variable in that the PETS UID set is created in the space of the subgraph that is Persons who are older than 80. The PETS variable will have the UIDs of all Pets for those People older than 80."
   ]
  },
  {
   "cell_type": "code",
   "execution_count": null,
   "metadata": {},
   "outputs": [],
   "source": [
    "query = \"\"\"\n",
    "{\n",
    "    var(func: type(Person)) @filter(gt(Entity.age, 80)) {\n",
    "        PETS as Person.pets\n",
    "    }\n",
    "  \n",
    "    pets_of_elderly(func: uid(PETS)) {\n",
    "        Pet.name\n",
    "        Pet.owner {\n",
    "            Person.name\n",
    "            Entity.age\n",
    "        }\n",
    "    }\n",
    "}\n",
    "\"\"\"\n",
    "\n",
    "res = client.txn(read_only=True).query(query)\n",
    "print(json.dumps(json.loads(res.json), indent=2))\n",
    "print(\"Total time: {0}ms\".format(res.latency.total_ns/1000000))"
   ]
  },
  {
   "cell_type": "markdown",
   "metadata": {},
   "source": [
    "## Value Variables\n",
    "\n",
    "Unlike variables declared in blocks, *value variables* store computed scalar values in an internal map, the key of this map is the UID encountered during a block's execution. The value is one or more computed scalars."
   ]
  },
  {
   "cell_type": "code",
   "execution_count": null,
   "metadata": {},
   "outputs": [],
   "source": [
    "query = \"\"\"\n",
    "{\n",
    "    # Find all pets of people under 21 and store the age of the pet in the PET_AGE value variable\n",
    "    var(func: type(Person)) @filter(le(Entity.age, 21)) {\n",
    "        Person.pets {\n",
    "            PET_AGE as Entity.age\n",
    "        }\n",
    "    }\n",
    "\n",
    "    # Simply show the maximum age of the pets found in the first block\n",
    "    oldest_pet_of_the_young() {\n",
    "        age: max(val(PET_AGE))\n",
    "    }\n",
    "}\n",
    "\"\"\"\n",
    "\n",
    "res = client.txn(read_only=True).query(query)\n",
    "print(json.dumps(json.loads(res.json), indent=2))\n",
    "print(\"Total time: {0}ms\".format(res.latency.total_ns/1000000))"
   ]
  },
  {
   "cell_type": "markdown",
   "metadata": {},
   "source": [
    "## Examining the UID Map of Value Variables\n",
    "\n",
    "In the example above, the final output block simply shows the maximum value from the UID map that is internally created in the first block. That UID map would look some thing like:\n",
    "\n",
    "```\n",
    "{\n",
    "    \"<UID-OF-PET-1>\": 14,\n",
    "    \"<UID-OF-PET-2>\": 15,\n",
    "    \"<UID-OF-PET-3\">: 4,\n",
    "    ...\n",
    "}\n",
    "```\n",
    "\n",
    "And the final blick `max(val(PET_AGE))` scans this map for the maximum scalar.\n",
    "\n",
    "In this query, we dump the \"internal map\" that Dgraph creates."
   ]
  },
  {
   "cell_type": "code",
   "execution_count": null,
   "metadata": {},
   "outputs": [],
   "source": [
    "query = \"\"\"\n",
    "{\n",
    "    # Find all pets of people under 21 and store the age of the pet in the PET_AGE value variable\n",
    "    var(func: type(Person)) @filter(le(Entity.age, 21)) {\n",
    "        Person.pets {\n",
    "            PET_AGE as Entity.age\n",
    "        }\n",
    "    }\n",
    "\n",
    "    check_out_the_uid_map(func: uid(PET_AGE), orderdesc: Entity.age) {\n",
    "        Pet.name\n",
    "        petAge:Entity.age\n",
    "        Pet.owner {\n",
    "            Person.name\n",
    "            Entity.age\n",
    "        }\n",
    "    }\n",
    "}\n",
    "\"\"\"\n",
    "\n",
    "res = client.txn(read_only=True).query(query)\n",
    "print(json.dumps(json.loads(res.json), indent=2))\n",
    "print(\"Total time: {0}ms\".format(res.latency.total_ns/1000000))"
   ]
  }
 ],
 "metadata": {
  "kernelspec": {
   "display_name": "Python 3",
   "language": "python",
   "name": "python3"
  },
  "language_info": {
   "codemirror_mode": {
    "name": "ipython",
    "version": 3
   },
   "file_extension": ".py",
   "mimetype": "text/x-python",
   "name": "python",
   "nbconvert_exporter": "python",
   "pygments_lexer": "ipython3",
   "version": "3.12.7"
  }
 },
 "nbformat": 4,
 "nbformat_minor": 2
}
