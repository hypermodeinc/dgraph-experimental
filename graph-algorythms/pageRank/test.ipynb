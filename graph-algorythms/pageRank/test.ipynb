{
 "cells": [
  {
   "cell_type": "code",
   "execution_count": 8,
   "metadata": {},
   "outputs": [
    {
     "name": "stdout",
     "output_type": "stream",
     "text": [
      "[(6, 3), (6, 8), (6, 2), (5, 7), (5, 8), (5, 2), (9, 3), (9, 8), (1, 8), (1, 2), (0, 3), (0, 6), (0, 5), (0, 9), (0, 1), (0, 7), (0, 4), (0, 8), (0, 2), (4, 3), (4, 7), (8, 7), (8, 2), (2, 3), (2, 7)]\n"
     ]
    },
    {
     "ename": "NameError",
     "evalue": "name 'edgelist' is not defined",
     "output_type": "error",
     "traceback": [
      "\u001b[0;31m---------------------------------------------------------------------------\u001b[0m",
      "\u001b[0;31mNameError\u001b[0m                                 Traceback (most recent call last)",
      "Cell \u001b[0;32mIn[8], line 83\u001b[0m\n\u001b[1;32m     80\u001b[0m     \u001b[38;5;28;01mfor\u001b[39;00m node, score \u001b[38;5;129;01min\u001b[39;00m \u001b[38;5;28mzip\u001b[39m(unique_nodes, pagerank_scores):\n\u001b[1;32m     81\u001b[0m         \u001b[38;5;28mprint\u001b[39m(\u001b[38;5;124mf\u001b[39m\u001b[38;5;124m\"\u001b[39m\u001b[38;5;124mNode \u001b[39m\u001b[38;5;132;01m{\u001b[39;00mnode\u001b[38;5;132;01m}\u001b[39;00m\u001b[38;5;124m: PageRank Score \u001b[39m\u001b[38;5;132;01m{\u001b[39;00mscore\u001b[38;5;132;01m}\u001b[39;00m\u001b[38;5;124m\"\u001b[39m)\n\u001b[0;32m---> 83\u001b[0m \u001b[43mmain\u001b[49m\u001b[43m(\u001b[49m\u001b[43m)\u001b[49m\n",
      "Cell \u001b[0;32mIn[8], line 75\u001b[0m, in \u001b[0;36mmain\u001b[0;34m()\u001b[0m\n\u001b[1;32m     73\u001b[0m indexed_edges \u001b[38;5;241m=\u001b[39m [(node_to_index[from_uid], node_to_index[to_uid]) \u001b[38;5;28;01mfor\u001b[39;00m from_uid, to_uid \u001b[38;5;129;01min\u001b[39;00m edges]\n\u001b[1;32m     74\u001b[0m \u001b[38;5;28mprint\u001b[39m(indexed_edges)\n\u001b[0;32m---> 75\u001b[0m G \u001b[38;5;241m=\u001b[39m nx\u001b[38;5;241m.\u001b[39mfrom_edgelist(\u001b[43medgelist\u001b[49m)\n\u001b[1;32m     76\u001b[0m \u001b[38;5;66;03m# Compute PageRank\u001b[39;00m\n\u001b[1;32m     77\u001b[0m pagerank_scores \u001b[38;5;241m=\u001b[39m compute_pagerank(num_nodes, indexed_edges)\n",
      "\u001b[0;31mNameError\u001b[0m: name 'edgelist' is not defined"
     ]
    }
   ],
   "source": [
    "import pydgraph\n",
    "import numpy as np\n",
    "import json\n",
    "from scipy.sparse import coo_matrix\n",
    "import networkx as nx\n",
    "\n",
    "def create_client():\n",
    "    \"\"\"Create and return a Dgraph client.\"\"\"\n",
    "    client_stub = pydgraph.DgraphClientStub('localhost:9080')  # Update with your Dgraph server address\n",
    "    return pydgraph.DgraphClient(client_stub)\n",
    "\n",
    "def fetch_graph_edges(client, offset=0, limit=10000):\n",
    "    \"\"\"Fetch graph edges from Dgraph in batches.\"\"\"\n",
    "    query = f\"\"\"\n",
    "    {{\n",
    "      edges(func: has(edge), first: {limit}, offset: {offset}) {{\n",
    "        uid\n",
    "        edge {{ uid }}\n",
    "      }}\n",
    "    }}\n",
    "    \"\"\"\n",
    "    txn = client.txn(read_only=True)\n",
    "    try:\n",
    "        response = txn.query(query)\n",
    "        return json.loads(response.json)\n",
    "    finally:\n",
    "        txn.discard()\n",
    "\n",
    "def compute_pagerank(num_nodes, edges, alpha=0.85, max_iter=100, tol=1e-6):\n",
    "    \"\"\"Compute PageRank using a sparse adjacency matrix.\"\"\"\n",
    "    rows, cols = zip(*edges)\n",
    "    values = np.ones(len(edges))\n",
    "    # use COO (Coordinate List) to build sparce matrix \n",
    "    # COO is often used for constructing sparse matrices, but it is less memory efficient than CSR (Compressed Sparse Row) \n",
    "    # \n",
    "    adj_matrix = coo_matrix((values, (rows, cols)), shape=(num_nodes, num_nodes))\n",
    "    out_degree = np.array(adj_matrix.sum(axis=1)).flatten()\n",
    "    out_degree[out_degree == 0] = 1  # Avoid division by zero\n",
    "    stochastic_matrix = adj_matrix.multiply(1 / out_degree[:, None])\n",
    "\n",
    "    # Initialize PageRank values\n",
    "    pagerank = np.ones(num_nodes) / num_nodes\n",
    "    for _ in range(max_iter):\n",
    "        new_pagerank = alpha * stochastic_matrix.dot(pagerank) + (1 - alpha) / num_nodes\n",
    "        if np.linalg.norm(new_pagerank - pagerank, ord=1) < tol:\n",
    "            break\n",
    "        pagerank = new_pagerank\n",
    "    return pagerank\n",
    "\n",
    "def main():\n",
    "    client = create_client()\n",
    "    \n",
    "    # Fetch data in batches and process\n",
    "    offset = 0\n",
    "    limit = 10000\n",
    "    edges = []\n",
    "    while True:\n",
    "        data = fetch_graph_edges(client, offset=offset, limit=limit)\n",
    "        if not data['edges']:\n",
    "            break\n",
    "        for edge in data['edges']:\n",
    "            from_uid = edge['uid']\n",
    "            to_uids = [to['uid'] for to in edge['edge']]\n",
    "            edges.extend((from_uid, to_uid) for to_uid in to_uids)\n",
    "        offset += limit\n",
    "    \n",
    "    # Extract unique nodes and map them to indices\n",
    "    unique_nodes = list(set([e[0] for e in edges] + [e[1] for e in edges]))\n",
    "    node_to_index = {node: i for i, node in enumerate(unique_nodes)}\n",
    "    num_nodes = len(unique_nodes)\n",
    "\n",
    "    # Map edges to indices\n",
    "    indexed_edges = [(node_to_index[from_uid], node_to_index[to_uid]) for from_uid, to_uid in edges]\n",
    "    print(indexed_edges)\n",
    "    G = nx.from_edgelist(edgelist)\n",
    "    pagerank_scores = nx.pagerank(G, alpha=0.85, max_iter=100, tol=1e-6)\n",
    "    print(pagerank_scores)\n",
    "    # Compute PageRank\n",
    "    pagerank_scores = compute_pagerank(num_nodes, indexed_edges)\n",
    "    \n",
    "    # Print or store results\n",
    "    for node, score in zip(unique_nodes, pagerank_scores):\n",
    "        print(f\"Node {node}: PageRank Score {score}\")\n",
    "\n",
    "main()"
   ]
  }
 ],
 "metadata": {
  "kernelspec": {
   "display_name": "3.11.5",
   "language": "python",
   "name": "python3"
  },
  "language_info": {
   "codemirror_mode": {
    "name": "ipython",
    "version": 3
   },
   "file_extension": ".py",
   "mimetype": "text/x-python",
   "name": "python",
   "nbconvert_exporter": "python",
   "pygments_lexer": "ipython3",
   "version": "3.11.5"
  }
 },
 "nbformat": 4,
 "nbformat_minor": 2
}
